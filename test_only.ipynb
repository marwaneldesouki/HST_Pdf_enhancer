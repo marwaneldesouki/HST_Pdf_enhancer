{
 "cells": [
  {
   "cell_type": "markdown",
   "id": "9d2af9df",
   "metadata": {},
   "source": [
    "# it`s not official just use it as a test#"
   ]
  },
  {
   "cell_type": "code",
   "execution_count": 25,
   "id": "0441decc",
   "metadata": {},
   "outputs": [],
   "source": [
    "import camelot\n",
    "from langchain.text_splitter import CharacterTextSplitter\n",
    "from dotenv import load_dotenv\n",
    "import arabic_reshaper\n",
    "from bidi.algorithm import get_display\n",
    "from joblib import Memory\n",
    "from pdf2image import convert_from_path\n",
    "from PIL import Image\n",
    "import pytesseract\n",
    "import os"
   ]
  },
  {
   "cell_type": "code",
   "execution_count": 26,
   "id": "9d2645fb",
   "metadata": {},
   "outputs": [],
   "source": [
    "\n",
    "# Define a directory for cache storage\n",
    "memory = Memory(\"./cache_dir\", verbose=0)\n"
   ]
  },
  {
   "cell_type": "code",
   "execution_count": 27,
   "id": "62f54d3b",
   "metadata": {},
   "outputs": [],
   "source": [
    "@memory.cache\n",
    "def get_pdf_tables(pdf_docs):\n",
    "    pdfs_reader = []\n",
    "    for pdf in pdf_docs:\n",
    "        pdf_reader = camelot.read_pdf(pdf,pages='all',) #address of pdf file(pdf)\n",
    "        pdfs_reader.append(pdf_reader)\n",
    "    return pdfs_reader\n",
    "\n",
    "\n",
    "\n",
    "def fix_arabic_text(cell): # Fix Arabic text direction\n",
    "    try:\n",
    "        reshaped_text = arabic_reshaper.reshape(cell)  # Reshape Arabic characters\n",
    "        bidi_text = get_display(reshaped_text)  # Apply BiDi algorithm\n",
    "        return bidi_text\n",
    "    except Exception:\n",
    "        return cell  # Return as is if not Arabic\n",
    "    "
   ]
  },
  {
   "cell_type": "code",
   "execution_count": 28,
   "id": "c36882b4",
   "metadata": {},
   "outputs": [
    {
     "name": "stdout",
     "output_type": "stream",
     "text": [
      "PDF files found:\n",
      ".\\documents\\الاثنين 16-12-2024 د19 القاهرة الجديدة.pdf\n",
      ".\\documents\\الاثنين جلسة 1-1-2024 د19.pdf\n",
      ".\\documents\\الاثنين جلسة 1-4-2024 د19 وراثات.pdf\n",
      ".\\documents\\د(19)اسرة السيدة زينب 22-12-2024.pdf\n",
      ".\\documents\\د(20)اسرة باب الشعرية 19-12-2024.pdf\n",
      ".\\documents\\د(20)اسرة عابدين18-12-2024.pdf\n",
      ".\\documents\\د(22) اسرة  الموسكى  جلسة 21-12-2024.pdf\n",
      ".\\documents\\ورثات الزاوية 16-12.pdf\n",
      ".\\documents\\ورثات الشرابية 17-12.pdf\n"
     ]
    }
   ],
   "source": [
    "directory_path = r\".\\documents\"\n",
    "\n",
    "pdf_files = []\n",
    "for root, dirs, files in os.walk(directory_path):\n",
    "    for file in files:\n",
    "        if file.endswith('.pdf'):\n",
    "            pdf_files.append(os.path.join(root, file))\n",
    "\n",
    "# Print the list of PDF files with their paths\n",
    "print(\"PDF files found:\")\n",
    "for pdf_file in pdf_files:\n",
    "    print(pdf_file)\n"
   ]
  },
  {
   "cell_type": "code",
   "execution_count": 29,
   "id": "0fe94768",
   "metadata": {},
   "outputs": [
    {
     "name": "stderr",
     "output_type": "stream",
     "text": [
      "invalid pdf header: b'11724'\n",
      "incorrect startxref pointer(1)\n",
      "parsing for Object Streams\n",
      "invalid pdf header: b'11724'\n",
      "incorrect startxref pointer(1)\n",
      "parsing for Object Streams\n",
      "invalid pdf header: b'11724'\n",
      "incorrect startxref pointer(1)\n",
      "parsing for Object Streams\n",
      "invalid pdf header: b'11724'\n",
      "incorrect startxref pointer(1)\n",
      "parsing for Object Streams\n",
      "invalid pdf header: b'11724'\n",
      "incorrect startxref pointer(1)\n",
      "parsing for Object Streams\n",
      "invalid pdf header: b'11724'\n",
      "incorrect startxref pointer(1)\n",
      "parsing for Object Streams\n",
      "invalid pdf header: b'11724'\n",
      "incorrect startxref pointer(1)\n",
      "parsing for Object Streams\n",
      "invalid pdf header: b'11479'\n",
      "incorrect startxref pointer(1)\n",
      "parsing for Object Streams\n",
      "invalid pdf header: b'11479'\n",
      "incorrect startxref pointer(1)\n",
      "parsing for Object Streams\n",
      "invalid pdf header: b'11479'\n",
      "incorrect startxref pointer(1)\n",
      "parsing for Object Streams\n",
      "invalid pdf header: b'11479'\n",
      "incorrect startxref pointer(1)\n",
      "parsing for Object Streams\n",
      "invalid pdf header: b'11479'\n",
      "incorrect startxref pointer(1)\n",
      "parsing for Object Streams\n",
      "invalid pdf header: b'15576'\n",
      "incorrect startxref pointer(3)\n",
      "parsing for Object Streams\n",
      "invalid pdf header: b'15576'\n",
      "incorrect startxref pointer(3)\n",
      "parsing for Object Streams\n",
      "invalid pdf header: b'11710'\n",
      "incorrect startxref pointer(1)\n",
      "parsing for Object Streams\n",
      "invalid pdf header: b'11710'\n",
      "incorrect startxref pointer(1)\n",
      "parsing for Object Streams\n",
      "invalid pdf header: b'11710'\n",
      "incorrect startxref pointer(1)\n",
      "parsing for Object Streams\n",
      "invalid pdf header: b'11710'\n",
      "incorrect startxref pointer(1)\n",
      "parsing for Object Streams\n",
      "invalid pdf header: b'11715'\n",
      "incorrect startxref pointer(1)\n",
      "parsing for Object Streams\n",
      "invalid pdf header: b'11715'\n",
      "incorrect startxref pointer(1)\n",
      "parsing for Object Streams\n",
      "invalid pdf header: b'11715'\n",
      "incorrect startxref pointer(1)\n",
      "parsing for Object Streams\n",
      "invalid pdf header: b'11715'\n",
      "incorrect startxref pointer(1)\n",
      "parsing for Object Streams\n",
      "invalid pdf header: b'11715'\n",
      "incorrect startxref pointer(1)\n",
      "parsing for Object Streams\n",
      "invalid pdf header: b'11715'\n",
      "incorrect startxref pointer(1)\n",
      "parsing for Object Streams\n",
      "invalid pdf header: b'11714'\n",
      "incorrect startxref pointer(1)\n",
      "parsing for Object Streams\n",
      "invalid pdf header: b'11714'\n",
      "incorrect startxref pointer(1)\n",
      "parsing for Object Streams\n",
      "invalid pdf header: b'11714'\n",
      "incorrect startxref pointer(1)\n",
      "parsing for Object Streams\n",
      "invalid pdf header: b'11714'\n",
      "incorrect startxref pointer(1)\n",
      "parsing for Object Streams\n",
      "invalid pdf header: b'11714'\n",
      "incorrect startxref pointer(1)\n",
      "parsing for Object Streams\n",
      "invalid pdf header: b'11714'\n",
      "incorrect startxref pointer(1)\n",
      "parsing for Object Streams\n",
      "invalid pdf header: b'11696'\n",
      "incorrect startxref pointer(1)\n",
      "parsing for Object Streams\n",
      "invalid pdf header: b'11696'\n",
      "incorrect startxref pointer(1)\n",
      "parsing for Object Streams\n",
      "invalid pdf header: b'11696'\n",
      "incorrect startxref pointer(1)\n",
      "parsing for Object Streams\n",
      "invalid pdf header: b'16883'\n",
      "incorrect startxref pointer(3)\n",
      "parsing for Object Streams\n",
      "invalid pdf header: b'16883'\n",
      "incorrect startxref pointer(3)\n",
      "parsing for Object Streams\n",
      "invalid pdf header: b'17255'\n",
      "incorrect startxref pointer(3)\n",
      "parsing for Object Streams\n",
      "invalid pdf header: b'17255'\n",
      "incorrect startxref pointer(3)\n",
      "parsing for Object Streams\n",
      "invalid pdf header: b'17255'\n",
      "incorrect startxref pointer(3)\n",
      "parsing for Object Streams\n"
     ]
    },
    {
     "name": "stdout",
     "output_type": "stream",
     "text": [
      "[<TableList n=6>, <TableList n=4>, <TableList n=1>, <TableList n=3>, <TableList n=5>, <TableList n=5>, <TableList n=2>, <TableList n=1>, <TableList n=2>]\n"
     ]
    }
   ],
   "source": [
    "pdfs_tables = get_pdf_tables(pdf_files)\n",
    "\n",
    "print(pdfs_tables)\n"
   ]
  },
  {
   "cell_type": "code",
   "execution_count": 34,
   "id": "5469e7e1",
   "metadata": {},
   "outputs": [
    {
     "name": "stdout",
     "output_type": "stream",
     "text": [
      "0\n",
      "1\n",
      "2\n",
      "3\n",
      "4\n",
      "5\n",
      "6\n",
      "7\n",
      "8\n",
      "{0: '19.921338334108565, 822.2581242873432, 575.1986688180718, 619.2588369441278', 1: '19.92133879190301, 822.2581242873432, 575.1986688180718, 638.220638540479', 2: '19.91383874546188, 822.2581242873432, 575.1986688180718, 664.1431014823261', 3: '19.92133879190301, 822.2581242873432, 575.1986688180718, 619.2588369441278', 4: '19.92133741851967, 822.2581242873432, 575.1986688180718, 619.2588369441278', 5: '19.92133879190301, 822.2581242873432, 575.1986688180718, 619.2588369441278', 6: '19.92133741851967, 822.2581242873432, 575.1986688180718, 619.2588369441278', 7: '19.921324600275128, 822.2581242873432, 575.1986688180718, 664.1431014823261', 8: '19.92122205431878, 822.2581242873432, 575.1986688180718, 664.1431014823261'}\n"
     ]
    }
   ],
   "source": [
    "def get_head_from_first_page(pdf): # Get the head of the table from the first page only of each PDF\n",
    "        first_page = pdf[0]\n",
    "        first_page.df = first_page.df.map(fix_arabic_text)\n",
    "        # Access the table's structure\n",
    "        cells = first_page.cells  # List of all detected cells\n",
    "        head = f\"{cells[0][0].x1}, {cells[0][0].y2}, {cells[0][-1].x2}, {cells[0][0].y1}\"\n",
    "        return head\n",
    "head_coordinates = {}\n",
    "for i in range (len(pdfs_tables)):\n",
    "    print(i)\n",
    "    head_coordinates[i]=get_head_from_first_page(pdfs_tables[i])\n",
    "print(head_coordinates)"
   ]
  },
  {
   "cell_type": "markdown",
   "id": "c151d665",
   "metadata": {},
   "source": [
    "## You don`t need to run this cell\n"
   ]
  },
  {
   "cell_type": "code",
   "execution_count": 35,
   "id": "fe9f3f22",
   "metadata": {},
   "outputs": [
    {
     "name": "stderr",
     "output_type": "stream",
     "text": [
      "invalid pdf header: b'11724'\n",
      "incorrect startxref pointer(1)\n"
     ]
    },
    {
     "name": "stderr",
     "output_type": "stream",
     "text": [
      "parsing for Object Streams\n"
     ]
    },
    {
     "name": "stdout",
     "output_type": "stream",
     "text": [
      ".\\documents\\الاثنين 16-12-2024 د19 القاهرة الجديدة.pdf 0\n"
     ]
    },
    {
     "name": "stderr",
     "output_type": "stream",
     "text": [
      "invalid pdf header: b'11479'\n",
      "incorrect startxref pointer(1)\n",
      "parsing for Object Streams\n"
     ]
    },
    {
     "name": "stdout",
     "output_type": "stream",
     "text": [
      ".\\documents\\الاثنين جلسة 1-1-2024 د19.pdf 1\n"
     ]
    },
    {
     "name": "stderr",
     "output_type": "stream",
     "text": [
      "invalid pdf header: b'15576'\n",
      "incorrect startxref pointer(3)\n",
      "parsing for Object Streams\n"
     ]
    },
    {
     "name": "stdout",
     "output_type": "stream",
     "text": [
      ".\\documents\\الاثنين جلسة 1-4-2024 د19 وراثات.pdf 2\n"
     ]
    },
    {
     "name": "stderr",
     "output_type": "stream",
     "text": [
      "invalid pdf header: b'11710'\n",
      "incorrect startxref pointer(1)\n",
      "parsing for Object Streams\n"
     ]
    },
    {
     "name": "stdout",
     "output_type": "stream",
     "text": [
      ".\\documents\\د(19)اسرة السيدة زينب 22-12-2024.pdf 3\n"
     ]
    },
    {
     "ename": "KeyboardInterrupt",
     "evalue": "",
     "output_type": "error",
     "traceback": [
      "\u001b[1;31m---------------------------------------------------------------------------\u001b[0m",
      "\u001b[1;31mKeyboardInterrupt\u001b[0m                         Traceback (most recent call last)",
      "Cell \u001b[1;32mIn[35], line 8\u001b[0m\n\u001b[0;32m      6\u001b[0m \u001b[38;5;28;01mfor\u001b[39;00m pdf_path,key \u001b[38;5;129;01min\u001b[39;00m \u001b[38;5;28mzip\u001b[39m(pdf_files,head_coordinates):\n\u001b[0;32m      7\u001b[0m     \u001b[38;5;28mprint\u001b[39m(pdf_path,key)\n\u001b[1;32m----> 8\u001b[0m     \u001b[43mcheck_on_pdf_grid\u001b[49m\u001b[43m(\u001b[49m\u001b[43mpdf_path\u001b[49m\u001b[43m,\u001b[49m\u001b[43mkey\u001b[49m\u001b[43m)\u001b[49m\n",
      "Cell \u001b[1;32mIn[35], line 4\u001b[0m, in \u001b[0;36mcheck_on_pdf_grid\u001b[1;34m(pdf_path, key)\u001b[0m\n\u001b[0;32m      2\u001b[0m file_name \u001b[38;5;241m=\u001b[39mos\u001b[38;5;241m.\u001b[39mpath\u001b[38;5;241m.\u001b[39mbasename(pdf_path)\n\u001b[0;32m      3\u001b[0m nested_tables \u001b[38;5;241m=\u001b[39m camelot\u001b[38;5;241m.\u001b[39mread_pdf(pdf_path, pages\u001b[38;5;241m=\u001b[39m\u001b[38;5;124m'\u001b[39m\u001b[38;5;124m1\u001b[39m\u001b[38;5;124m'\u001b[39m,flavor\u001b[38;5;241m=\u001b[39m\u001b[38;5;124m'\u001b[39m\u001b[38;5;124mstream\u001b[39m\u001b[38;5;124m'\u001b[39m,table_areas\u001b[38;5;241m=\u001b[39m[head_coordinates[key]],edge_tol\u001b[38;5;241m=\u001b[39m\u001b[38;5;241m500\u001b[39m,)\n\u001b[1;32m----> 4\u001b[0m \u001b[43mcamelot\u001b[49m\u001b[38;5;241;43m.\u001b[39;49m\u001b[43mplot\u001b[49m\u001b[43m(\u001b[49m\u001b[43mtable\u001b[49m\u001b[38;5;241;43m=\u001b[39;49m\u001b[43mnested_tables\u001b[49m\u001b[43m[\u001b[49m\u001b[38;5;241;43m0\u001b[39;49m\u001b[43m]\u001b[49m\u001b[43m,\u001b[49m\u001b[43m \u001b[49m\u001b[43mkind\u001b[49m\u001b[38;5;241;43m=\u001b[39;49m\u001b[38;5;124;43m\"\u001b[39;49m\u001b[38;5;124;43mgrid\u001b[39;49m\u001b[38;5;124;43m\"\u001b[39;49m\u001b[43m)\u001b[49m\n",
      "File \u001b[1;32md:\\my work\\python\\HST_Pdf_enhancer\\.venv\\lib\\site-packages\\camelot\\plotting.py:42\u001b[0m, in \u001b[0;36mPlotMethods.__call__\u001b[1;34m(self, table, kind, filename)\u001b[0m\n\u001b[0;32m     39\u001b[0m     \u001b[38;5;28;01mraise\u001b[39;00m \u001b[38;5;167;01mNotImplementedError\u001b[39;00m(\u001b[38;5;124mf\u001b[39m\u001b[38;5;124m\"\u001b[39m\u001b[38;5;124mStream flavor does not support kind=\u001b[39m\u001b[38;5;124m'\u001b[39m\u001b[38;5;132;01m{\u001b[39;00mkind\u001b[38;5;132;01m}\u001b[39;00m\u001b[38;5;124m'\u001b[39m\u001b[38;5;124m\"\u001b[39m)\n\u001b[0;32m     41\u001b[0m plot_method \u001b[38;5;241m=\u001b[39m \u001b[38;5;28mgetattr\u001b[39m(\u001b[38;5;28mself\u001b[39m, kind)\n\u001b[1;32m---> 42\u001b[0m fig \u001b[38;5;241m=\u001b[39m \u001b[43mplot_method\u001b[49m\u001b[43m(\u001b[49m\u001b[43mtable\u001b[49m\u001b[43m)\u001b[49m\n\u001b[0;32m     44\u001b[0m \u001b[38;5;28;01mif\u001b[39;00m filename \u001b[38;5;129;01mis\u001b[39;00m \u001b[38;5;129;01mnot\u001b[39;00m \u001b[38;5;28;01mNone\u001b[39;00m:\n\u001b[0;32m     45\u001b[0m     fig\u001b[38;5;241m.\u001b[39msavefig(filename)\n",
      "File \u001b[1;32md:\\my work\\python\\HST_Pdf_enhancer\\.venv\\lib\\site-packages\\camelot\\plotting.py:92\u001b[0m, in \u001b[0;36mPlotMethods.grid\u001b[1;34m(self, table)\u001b[0m\n\u001b[0;32m     90\u001b[0m \u001b[38;5;28;01mfor\u001b[39;00m cell \u001b[38;5;129;01min\u001b[39;00m row:\n\u001b[0;32m     91\u001b[0m     \u001b[38;5;28;01mif\u001b[39;00m cell\u001b[38;5;241m.\u001b[39mleft:\n\u001b[1;32m---> 92\u001b[0m         \u001b[43max\u001b[49m\u001b[38;5;241;43m.\u001b[39;49m\u001b[43mplot\u001b[49m\u001b[43m(\u001b[49m\u001b[43m[\u001b[49m\u001b[43mcell\u001b[49m\u001b[38;5;241;43m.\u001b[39;49m\u001b[43mlb\u001b[49m\u001b[43m[\u001b[49m\u001b[38;5;241;43m0\u001b[39;49m\u001b[43m]\u001b[49m\u001b[43m,\u001b[49m\u001b[43m \u001b[49m\u001b[43mcell\u001b[49m\u001b[38;5;241;43m.\u001b[39;49m\u001b[43mlt\u001b[49m\u001b[43m[\u001b[49m\u001b[38;5;241;43m0\u001b[39;49m\u001b[43m]\u001b[49m\u001b[43m]\u001b[49m\u001b[43m,\u001b[49m\u001b[43m \u001b[49m\u001b[43m[\u001b[49m\u001b[43mcell\u001b[49m\u001b[38;5;241;43m.\u001b[39;49m\u001b[43mlb\u001b[49m\u001b[43m[\u001b[49m\u001b[38;5;241;43m1\u001b[39;49m\u001b[43m]\u001b[49m\u001b[43m,\u001b[49m\u001b[43m \u001b[49m\u001b[43mcell\u001b[49m\u001b[38;5;241;43m.\u001b[39;49m\u001b[43mlt\u001b[49m\u001b[43m[\u001b[49m\u001b[38;5;241;43m1\u001b[39;49m\u001b[43m]\u001b[49m\u001b[43m]\u001b[49m\u001b[43m)\u001b[49m\n\u001b[0;32m     93\u001b[0m     \u001b[38;5;28;01mif\u001b[39;00m cell\u001b[38;5;241m.\u001b[39mright:\n\u001b[0;32m     94\u001b[0m         ax\u001b[38;5;241m.\u001b[39mplot([cell\u001b[38;5;241m.\u001b[39mrb[\u001b[38;5;241m0\u001b[39m], cell\u001b[38;5;241m.\u001b[39mrt[\u001b[38;5;241m0\u001b[39m]], [cell\u001b[38;5;241m.\u001b[39mrb[\u001b[38;5;241m1\u001b[39m], cell\u001b[38;5;241m.\u001b[39mrt[\u001b[38;5;241m1\u001b[39m]])\n",
      "File \u001b[1;32md:\\my work\\python\\HST_Pdf_enhancer\\.venv\\lib\\site-packages\\matplotlib\\axes\\_axes.py:1779\u001b[0m, in \u001b[0;36mAxes.plot\u001b[1;34m(self, scalex, scaley, data, *args, **kwargs)\u001b[0m\n\u001b[0;32m   1777\u001b[0m lines \u001b[38;5;241m=\u001b[39m [\u001b[38;5;241m*\u001b[39m\u001b[38;5;28mself\u001b[39m\u001b[38;5;241m.\u001b[39m_get_lines(\u001b[38;5;28mself\u001b[39m, \u001b[38;5;241m*\u001b[39margs, data\u001b[38;5;241m=\u001b[39mdata, \u001b[38;5;241m*\u001b[39m\u001b[38;5;241m*\u001b[39mkwargs)]\n\u001b[0;32m   1778\u001b[0m \u001b[38;5;28;01mfor\u001b[39;00m line \u001b[38;5;129;01min\u001b[39;00m lines:\n\u001b[1;32m-> 1779\u001b[0m     \u001b[38;5;28;43mself\u001b[39;49m\u001b[38;5;241;43m.\u001b[39;49m\u001b[43madd_line\u001b[49m\u001b[43m(\u001b[49m\u001b[43mline\u001b[49m\u001b[43m)\u001b[49m\n\u001b[0;32m   1780\u001b[0m \u001b[38;5;28;01mif\u001b[39;00m scalex:\n\u001b[0;32m   1781\u001b[0m     \u001b[38;5;28mself\u001b[39m\u001b[38;5;241m.\u001b[39m_request_autoscale_view(\u001b[38;5;124m\"\u001b[39m\u001b[38;5;124mx\u001b[39m\u001b[38;5;124m\"\u001b[39m)\n",
      "File \u001b[1;32md:\\my work\\python\\HST_Pdf_enhancer\\.venv\\lib\\site-packages\\matplotlib\\axes\\_base.py:2371\u001b[0m, in \u001b[0;36m_AxesBase.add_line\u001b[1;34m(self, line)\u001b[0m\n\u001b[0;32m   2368\u001b[0m \u001b[38;5;28;01mif\u001b[39;00m line\u001b[38;5;241m.\u001b[39mget_clip_path() \u001b[38;5;129;01mis\u001b[39;00m \u001b[38;5;28;01mNone\u001b[39;00m:\n\u001b[0;32m   2369\u001b[0m     line\u001b[38;5;241m.\u001b[39mset_clip_path(\u001b[38;5;28mself\u001b[39m\u001b[38;5;241m.\u001b[39mpatch)\n\u001b[1;32m-> 2371\u001b[0m \u001b[38;5;28;43mself\u001b[39;49m\u001b[38;5;241;43m.\u001b[39;49m\u001b[43m_update_line_limits\u001b[49m\u001b[43m(\u001b[49m\u001b[43mline\u001b[49m\u001b[43m)\u001b[49m\n\u001b[0;32m   2372\u001b[0m \u001b[38;5;28;01mif\u001b[39;00m \u001b[38;5;129;01mnot\u001b[39;00m line\u001b[38;5;241m.\u001b[39mget_label():\n\u001b[0;32m   2373\u001b[0m     line\u001b[38;5;241m.\u001b[39mset_label(\u001b[38;5;124mf\u001b[39m\u001b[38;5;124m'\u001b[39m\u001b[38;5;124m_child\u001b[39m\u001b[38;5;132;01m{\u001b[39;00m\u001b[38;5;28mlen\u001b[39m(\u001b[38;5;28mself\u001b[39m\u001b[38;5;241m.\u001b[39m_children)\u001b[38;5;132;01m}\u001b[39;00m\u001b[38;5;124m'\u001b[39m)\n",
      "File \u001b[1;32md:\\my work\\python\\HST_Pdf_enhancer\\.venv\\lib\\site-packages\\matplotlib\\axes\\_base.py:2394\u001b[0m, in \u001b[0;36m_AxesBase._update_line_limits\u001b[1;34m(self, line)\u001b[0m\n\u001b[0;32m   2390\u001b[0m \u001b[38;5;28;01mdef\u001b[39;00m \u001b[38;5;21m_update_line_limits\u001b[39m(\u001b[38;5;28mself\u001b[39m, line):\n\u001b[0;32m   2391\u001b[0m \u001b[38;5;250m    \u001b[39m\u001b[38;5;124;03m\"\"\"\u001b[39;00m\n\u001b[0;32m   2392\u001b[0m \u001b[38;5;124;03m    Figures out the data limit of the given line, updating `.Axes.dataLim`.\u001b[39;00m\n\u001b[0;32m   2393\u001b[0m \u001b[38;5;124;03m    \"\"\"\u001b[39;00m\n\u001b[1;32m-> 2394\u001b[0m     path \u001b[38;5;241m=\u001b[39m \u001b[43mline\u001b[49m\u001b[38;5;241;43m.\u001b[39;49m\u001b[43mget_path\u001b[49m\u001b[43m(\u001b[49m\u001b[43m)\u001b[49m\n\u001b[0;32m   2395\u001b[0m     \u001b[38;5;28;01mif\u001b[39;00m path\u001b[38;5;241m.\u001b[39mvertices\u001b[38;5;241m.\u001b[39msize \u001b[38;5;241m==\u001b[39m \u001b[38;5;241m0\u001b[39m:\n\u001b[0;32m   2396\u001b[0m         \u001b[38;5;28;01mreturn\u001b[39;00m\n",
      "File \u001b[1;32md:\\my work\\python\\HST_Pdf_enhancer\\.venv\\lib\\site-packages\\matplotlib\\lines.py:1038\u001b[0m, in \u001b[0;36mLine2D.get_path\u001b[1;34m(self)\u001b[0m\n\u001b[0;32m   1036\u001b[0m \u001b[38;5;250m\u001b[39m\u001b[38;5;124;03m\"\"\"Return the `~matplotlib.path.Path` associated with this line.\"\"\"\u001b[39;00m\n\u001b[0;32m   1037\u001b[0m \u001b[38;5;28;01mif\u001b[39;00m \u001b[38;5;28mself\u001b[39m\u001b[38;5;241m.\u001b[39m_invalidy \u001b[38;5;129;01mor\u001b[39;00m \u001b[38;5;28mself\u001b[39m\u001b[38;5;241m.\u001b[39m_invalidx:\n\u001b[1;32m-> 1038\u001b[0m     \u001b[38;5;28;43mself\u001b[39;49m\u001b[38;5;241;43m.\u001b[39;49m\u001b[43mrecache\u001b[49m\u001b[43m(\u001b[49m\u001b[43m)\u001b[49m\n\u001b[0;32m   1039\u001b[0m \u001b[38;5;28;01mreturn\u001b[39;00m \u001b[38;5;28mself\u001b[39m\u001b[38;5;241m.\u001b[39m_path\n",
      "File \u001b[1;32md:\\my work\\python\\HST_Pdf_enhancer\\.venv\\lib\\site-packages\\matplotlib\\lines.py:684\u001b[0m, in \u001b[0;36mLine2D.recache\u001b[1;34m(self, always)\u001b[0m\n\u001b[0;32m    681\u001b[0m \u001b[38;5;28;01melse\u001b[39;00m:\n\u001b[0;32m    682\u001b[0m     y \u001b[38;5;241m=\u001b[39m \u001b[38;5;28mself\u001b[39m\u001b[38;5;241m.\u001b[39m_y\n\u001b[1;32m--> 684\u001b[0m \u001b[38;5;28mself\u001b[39m\u001b[38;5;241m.\u001b[39m_xy \u001b[38;5;241m=\u001b[39m \u001b[43mnp\u001b[49m\u001b[38;5;241;43m.\u001b[39;49m\u001b[43mcolumn_stack\u001b[49m\u001b[43m(\u001b[49m\u001b[43mnp\u001b[49m\u001b[38;5;241;43m.\u001b[39;49m\u001b[43mbroadcast_arrays\u001b[49m\u001b[43m(\u001b[49m\u001b[43mx\u001b[49m\u001b[43m,\u001b[49m\u001b[43m \u001b[49m\u001b[43my\u001b[49m\u001b[43m)\u001b[49m\u001b[43m)\u001b[49m\u001b[38;5;241m.\u001b[39mastype(\u001b[38;5;28mfloat\u001b[39m)\n\u001b[0;32m    685\u001b[0m \u001b[38;5;28mself\u001b[39m\u001b[38;5;241m.\u001b[39m_x, \u001b[38;5;28mself\u001b[39m\u001b[38;5;241m.\u001b[39m_y \u001b[38;5;241m=\u001b[39m \u001b[38;5;28mself\u001b[39m\u001b[38;5;241m.\u001b[39m_xy\u001b[38;5;241m.\u001b[39mT  \u001b[38;5;66;03m# views\u001b[39;00m\n\u001b[0;32m    687\u001b[0m \u001b[38;5;28mself\u001b[39m\u001b[38;5;241m.\u001b[39m_subslice \u001b[38;5;241m=\u001b[39m \u001b[38;5;28;01mFalse\u001b[39;00m\n",
      "File \u001b[1;32md:\\my work\\python\\HST_Pdf_enhancer\\.venv\\lib\\site-packages\\numpy\\lib\\shape_base.py:652\u001b[0m, in \u001b[0;36mcolumn_stack\u001b[1;34m(tup)\u001b[0m\n\u001b[0;32m    650\u001b[0m         arr \u001b[38;5;241m=\u001b[39m array(arr, copy\u001b[38;5;241m=\u001b[39m\u001b[38;5;28;01mFalse\u001b[39;00m, subok\u001b[38;5;241m=\u001b[39m\u001b[38;5;28;01mTrue\u001b[39;00m, ndmin\u001b[38;5;241m=\u001b[39m\u001b[38;5;241m2\u001b[39m)\u001b[38;5;241m.\u001b[39mT\n\u001b[0;32m    651\u001b[0m     arrays\u001b[38;5;241m.\u001b[39mappend(arr)\n\u001b[1;32m--> 652\u001b[0m \u001b[38;5;28;01mreturn\u001b[39;00m \u001b[43m_nx\u001b[49m\u001b[38;5;241;43m.\u001b[39;49m\u001b[43mconcatenate\u001b[49m\u001b[43m(\u001b[49m\u001b[43marrays\u001b[49m\u001b[43m,\u001b[49m\u001b[43m \u001b[49m\u001b[38;5;241;43m1\u001b[39;49m\u001b[43m)\u001b[49m\n",
      "\u001b[1;31mKeyboardInterrupt\u001b[0m: "
     ]
    },
    {
     "data": {
      "image/png": "[encoded data removed]",
      "text/plain": [
       "<Figure size 640x480 with 1 Axes>"
      ]
     },
     "metadata": {},
     "output_type": "display_data"
    },
    {
     "data": {
      "image/png": "[encoded data removed]",
      "text/plain": [
       "<Figure size 640x480 with 1 Axes>"
      ]
     },
     "metadata": {},
     "output_type": "display_data"
    },
    {
     "data": {
      "image/png": "[encoded data removed]",
      "text/plain": [
       "<Figure size 640x480 with 1 Axes>"
      ]
     },
     "metadata": {},
     "output_type": "display_data"
    },
    {
     "data": {
      "image/png": "[encoded data removed]",
      "text/plain": [
       "<Figure size 640x480 with 1 Axes>"
      ]
     },
     "metadata": {},
     "output_type": "display_data"
    }
   ],
   "source": [
    "def check_on_pdf_grid(pdf_path,key):\n",
    "    file_name =os.path.basename(pdf_path)\n",
    "    nested_tables = camelot.read_pdf(pdf_path, pages='1',flavor='stream',table_areas=[head_coordinates[key]],edge_tol=500,)\n",
    "    camelot.plot(table=nested_tables[0], kind=\"grid\")\n",
    "    \n",
    "for pdf_path,key in zip(pdf_files,head_coordinates):\n",
    "    print(pdf_path,key)\n",
    "    check_on_pdf_grid(pdf_path,key)"
   ]
  },
  {
   "cell_type": "code",
   "execution_count": 36,
   "id": "aa1a197a",
   "metadata": {},
   "outputs": [
    {
     "name": "stdout",
     "output_type": "stream",
     "text": [
      "[<PIL.PpmImagePlugin.PpmImageFile image mode=RGB size=2480x3509 at 0x262AC38FBB0>, <PIL.PpmImagePlugin.PpmImageFile image mode=RGB size=2480x3509 at 0x262AC38EF20>, <PIL.PpmImagePlugin.PpmImageFile image mode=RGB size=2480x3509 at 0x2629CB17280>, <PIL.PpmImagePlugin.PpmImageFile image mode=RGB size=2480x3509 at 0x2629CB16F80>, <PIL.PpmImagePlugin.PpmImageFile image mode=RGB size=2480x3509 at 0x2629CB17250>, <PIL.PpmImagePlugin.PpmImageFile image mode=RGB size=2480x3509 at 0x2629CB17220>, <PIL.PpmImagePlugin.PpmImageFile image mode=RGB size=2480x3509 at 0x2629CB17040>, <PIL.PpmImagePlugin.PpmImageFile image mode=RGB size=2480x3509 at 0x2629CB171F0>, <PIL.PpmImagePlugin.PpmImageFile image mode=RGB size=2480x3509 at 0x2629CB17100>]\n"
     ]
    }
   ],
   "source": [
    "#get the first page of each pdf as an image\n",
    "pages_images = []\n",
    "for pdf_path,key in zip(pdf_files,head_coordinates):\n",
    "    # Convert the PDF page to an image\n",
    "    pages = convert_from_path(pdf_path, first_page=1, last_page=1, dpi=300,poppler_path=r\".\\libs\\poppler-24.08.0\\Library\\bin\")\n",
    "    pages_images.append(pages[0])\n",
    "    \n",
    "print(pages_images)"
   ]
  },
  {
   "cell_type": "code",
   "execution_count": 37,
   "id": "5d42fba8",
   "metadata": {},
   "outputs": [
    {
     "name": "stdout",
     "output_type": "stream",
     "text": [
      "{0: [19, 822, 575, 619], 1: [19, 822, 575, 638], 2: [19, 822, 575, 664], 3: [19, 822, 575, 619], 4: [19, 822, 575, 619], 5: [19, 822, 575, 619], 6: [19, 822, 575, 619], 7: [19, 822, 575, 664], 8: [19, 822, 575, 664]}\n"
     ]
    }
   ],
   "source": [
    "#convert head_coordinates to list of int\n",
    "head_coordinates_int = {}\n",
    "for key in head_coordinates:\n",
    "    head_coordinates_int[key] = [int(float(coord)) for coord in head_coordinates[key].split(\",\")]\n",
    "    \n",
    "print(head_coordinates_int)"
   ]
  },
  {
   "cell_type": "code",
   "execution_count": 40,
   "id": "1014037f",
   "metadata": {},
   "outputs": [
    {
     "name": "stdout",
     "output_type": "stream",
     "text": [
      "٧٥٢٣٥102٨ 28-1 2-2023 2\n",
      "\n",
      "نيابةقشرق القاهرة الكلية لشنون الأسرة موقع الطباعة: ججبر\n",
      "\n",
      "نيبة القأمرة الجديدة الجزنية لشنون الأسرة اقق\n",
      "أجندة يومية جلسات\n",
      "\n",
      "يومية جلسة يوم الاثنين الموافق 2024/12/16 بدائرة 19 انموذج رقم 42 \"شنون أسرة\")\n",
      "\n",
      "برناسة القاضي نزار عبدالفتاح رئيس المحكمة\n",
      "\n",
      "وعضوية كل من محمود دياب و محمد الشعراوي القاضيين\n",
      "\n",
      "وبحضور كريم حسن عضو الدائرة الرابعم وبحضور ضياء الدين الاحمداوي عضو الدائرة الخامس\n",
      "\n",
      "وبحضور أحمد مدحت نور الدين أحمد عضو النيابة\n",
      "\n",
      "وبحضور الخبيرين اميره عاطف عبدالرازق خبير اجتماعي مني فايز أبوالوفا محمد خبير نفسي\n",
      "\n",
      "وبحضور ناصر سامي عطيه خليل سكرتير الجلسة\n",
      " \n",
      "###############################################\n",
      "\n",
      "‎٧٥٢٥10٢٨ 28-1 2--023 2‏\n",
      "نيابةشرق القاهرة الكلية لشنون الأسرة موقع الطباعة: جرمر\n",
      "نيابة القأهرة الجديدة الجزئية لشنون الأسرة افوق\n",
      "\n",
      "‏أجندة يومية جلسات\n",
      "يومية جلسة يوم الاثنين الموافقى 2024/01/01 بدائرة 19 انموذج رقم 42 \"شتون أسرة\")\n",
      "برناسة القاضي أحمد عبدالعزيز محمد محسن رئيس المحكمة\n",
      "وعضوية كل من احمد البنا و أحمد محمد طه حنفي القاضيين\n",
      "وبحضور محمود ايمن محمود محمد موافي عضو النيابة\n",
      "وبحضور الخبيرين رانيا رمضان أحمد محمد خبير اجتماعي مني فايز أبوالوفا محمد خبير نفسي\n",
      "وبحضور أحمد محمد أحمد محمد سعدوني سكرتير الجلسة\n",
      "فتحت الجلسة الساعه وقفلت الساعة\n",
      " \n",
      "###############################################\n",
      "\n",
      "٧٥٢٣٥١01٨ 23-01-2024 - -1\n",
      "\n",
      "نيابة شرق القاهرة الكلية لشنون الأسرة موقع الطباعة:\n",
      "ٰ كل\n",
      "\n",
      "نيابة القاهرة الجديدة الجزئية لشنون الاسرة كة\n",
      "\n",
      "، :. : ه\n",
      "\n",
      "(ولاية على النفس) اجندة يومية وراثات\n",
      "\n",
      "يومية جلسة يوم الاثنين الموافق 2024/04/01 بدائرة 19\n",
      "\n",
      "ويحضور ناصر سامي عطيه خليل سكرتير الجلسة\n",
      "\n",
      "فتحت الجلسة الساعه وقفلت الساعة\n",
      "\n",
      "د رقم القضية مقدم الطلب اسم المتوفى | الجلسة السابقة الحكم أو القرار الجلسة التالية\n",
      " \n",
      "###############################################\n",
      "\n",
      "‎٧٥٢٥101٨ 28-1 2-2-023 2‏\n",
      "نيابةجنوب القاهرة الكلية لشنون الأسرة موقع الطباعة: مجمع محاكم شبرا زنانيري ججمر\n",
      "نيابة السيدة زينب الجزئية لشنون الأسرة ، حك\n",
      "ّ ه َ\n",
      "أجندة يومية جنلسات\n",
      "ت ت . . َ\n",
      "ة جلسة ق 4 بدائرة 19 الموذج رقم 42 \"شنون أسرة\")\n",
      "يومية جلسة يوم الاحد الموافق 1222 بدائر\n",
      "برناسة القاضي عبدالله الحسين رئيس المحكمة\n",
      "وبحضور مصطفي محمد رضا منثير سعفان عضو الدائرة الرابع\n",
      "وبحضور محمد محمود شاكر مرسي عضو النيابة\n",
      "و ب ح ضور ال خبيرين محمد نصر عبد الحميد عبدالله خبير اجتماعي هبه أحمد سيد أحمد خبير نفسي\n",
      "وبحضور ناصر فؤاد محمود ابراهيم سكرتير الجلسة\n",
      " \n",
      "###############################################\n",
      "\n",
      "٧٥٢٣٥102٨ 28-1 2-2023 2\n",
      "\n",
      "نيابةجنوب القاهرة الكلية لشنون الأإسرة موقع الطباعة: مجمع محاكم شبرا زنانيري ججبر\n",
      "\n",
      "نيابةباب الشعرية الجزنية لشنون الأسرة .\n",
      "أجندة يومية جلسات ست\n",
      "\n",
      "يومية جلسة يوم الخميس الموافق 2024/12/19 بدائرة 20 انموذج رقم 42 \"شتون أسرة\")\n",
      "\n",
      "برناسة القاضي محمد حسن عبد المحسن رئيس المحكمة\n",
      "\n",
      "وعضوية كل من محمد عبد البصير و أحمد جمال حسين امبابي القاضيين\n",
      "\n",
      "وبحضور محمد مصطفي توفيق مهني يوسف عضو الدائرة الرابع\n",
      "\n",
      "وبحضور أحمد محمد على عوض على عضو النيابة\n",
      "\n",
      "وبحضور الخبيرين لمياء صلاح الدين خبير اجتماعي شيماء عبدالباسط عبدالحكيم خبير نفسي\n",
      "\n",
      "وبحضور شيماء السيد جابر السيد سكرتير الجلسة\n",
      " \n",
      "###############################################\n",
      "\n",
      "‎٧٥٢٣٥102٨ 28-1 2-2023 2‏\n",
      "نيابةجنوب القاهرة الكلية لشنون الأسرة موقع الطباعة: مجمع محاكم شبرا زنانيري ججبر\n",
      "نيابة عابدين الجزئية لشئون الأسرة ، احققأ\n",
      "5ك ر ت\n",
      "أجندة يومية جنلسات\n",
      "‎٠‏ ك ّ ‎٠‏\n",
      "\n",
      "‏ك ك و ذب ذ ء أ ‎٠َ‏\n",
      "‏يومية جلسة يوم الأربعاء الموافق 2024/12/18 بدائرة 20 انموذج رقم 42 \"شنون أسرة\")\n",
      "وعضوية كل من محمد عبد البصير و أحمد جمال على توفيق القاضيين\n",
      "وبحضور محمد مصطفي توفيق مهني يوسف عضو الدائرة الرابع\n",
      "وبحضور عمر أحمد على محمد على عبد الفتاح عضو النيابة\n",
      "وبحضور الخبيرين سمر أحمد سعيد خبير اجتماعي رشا عمر خبير نفسي\n",
      "ويبحضور أحمد عبد المنعم عبد الظاهر نصر سكرتير الجلسة\n",
      " \n",
      "###############################################\n",
      "\n",
      "‎٧٥٢٣٥102٨ 28-1 2-2023 2‏\n",
      "نيابة جنوب القاهرة الكلية لشئون الاسرة موقع الطباعة: مجمع محاكم شبرا زنانيري جمر\n",
      "ابةالموسكى الجَرنية لفونالأاًرة ح\n",
      "\n",
      "‏أحندة ٌحلسات اخكة\n",
      "‎٥ ٥‏ يومية ‎٦‏ ك ُح\n",
      "يومية جلسة يوم السبت الموافق 1 بدائرة 22 (نموذج رقم 42 \"شئون أسرة\")\n",
      "برئاسة القاضي أحمد يوسف عبدالعزيز رشدى رئيس المحكمة\n",
      "وعضوية كل من أسلام الجندي و أحمد محمد هلال أبو النجا الشهاوي الفاضبين\n",
      "ويحضو محمد أشرف أحمد محمد عضو الدائرة الرابع\n",
      "وبحضور رشا أحمد محمود خبير اجتماعي عبد الررحمن على محمد خبير نفسي\n",
      " \n",
      "###############################################\n",
      "\n",
      "٧٥٣٥101٨ 07-03 -2024 - 1\n",
      "\n",
      "نيابة شمال القاهرة الكلية لشنون الأسرة موقع الطباعة: جِح\n",
      "نيابة الزاوية الحمراء الجزئية لشنون الأسرة ك ‎١‏\n",
      "‏(ولاية على النفس) اجندة يومية وراثات أ\n",
      "\n",
      "يومية جلسة يوم الاثنين الموافق 2024/12/16 بدائرة 23\n",
      "\n",
      "برئاسة القاضي أحمد قرني رئيس المحكمة\n",
      "\n",
      "وبحضور مصطفي حا مد محمد منصور سكرتير ا لجل ة\n",
      "\n",
      "فتحت الجلسة الساعه وقفلت الساعة\n",
      "\n",
      "رق مو بم َ و ا\n",
      "ذ ّ رقم القضية مقدم الطلب اسم المتوفى | الجلسة السابقة الحكم أو القرار الجلسة التالية\n",
      " \n",
      "###############################################\n",
      "\n",
      "‎٧٥٢٣٥101٨ 07-03-2024 - 1‏\n",
      "نيابة شمال القاهرة الكلية لشنون الأسرة موقع الطباعة: َخر\n",
      "َ اب ق َك\n",
      "نيابة الشرابية الجزئية لشنون الأسرة ن\n",
      "\n",
      "‏، .: ٠م٠‏ ال ك َ\n",
      "(ولاية على النفس) اأجندة يومية وراثات\n",
      "يومية جلسة يوم الثلاثاء الموافق 2024/12/17 بدائرة 25\n",
      "برناسة القاضي رئيس المحكمة\n",
      "وبحضور سكرتير الجلسة\n",
      "فتحت الجلسة الساعه وقفلت الساعة\n",
      "ثم | رقم القضية مقدم الطلب اسح المتوف الجلسة السابقة الحكم أو القرار الجلسة التالية\n",
      "الرول رم ب ما لسْت ْن ك\n",
      " \n",
      "###############################################\n",
      "\n"
     ]
    }
   ],
   "source": [
    "for i,page_image in enumerate(pages_images):\n",
    "    cropped_cell_image = page_image.crop((head_coordinates_int[i][0], 0, page_image.width,(page_image.height/100)+head_coordinates_int[i][1]))\n",
    "    # Perform OCR on the cropped cell\n",
    "    ocr_result = pytesseract.image_to_string(cropped_cell_image, lang=\"ara\",config='--oem 3 --psm 6',)  # Add 'ara' for Arabic support\n",
    "    print(ocr_result, \"\\n###############################################\\n\")\n",
    "    # Save the cropped image (optional, for debugging purposes)\n",
    "    cropped_cell_image.save(fr\".\\cropped_images\\{i}.png\")\n",
    "    # Define the string you want to write to the file\n",
    "\n",
    "    # Open a file in write mode. If the file does not exist, it will be created.\n",
    "    with open(fr\".\\cropped_images\\{i}.txt\", \"w\") as file:\n",
    "        # Write the string to the file\n",
    "        file.write(ocr_result)"
   ]
  }
 ],
 "metadata": {
  "kernelspec": {
   "display_name": ".venv",
   "language": "python",
   "name": "python3"
  },
  "language_info": {
   "codemirror_mode": {
    "name": "ipython",
    "version": 3
   },
   "file_extension": ".py",
   "mimetype": "text/x-python",
   "name": "python",
   "nbconvert_exporter": "python",
   "pygments_lexer": "ipython3",
   "version": "3.10.6"
  }
 },
 "nbformat": 4,
 "nbformat_minor": 5
}
