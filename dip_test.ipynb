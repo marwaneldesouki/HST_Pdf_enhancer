{
 "cells": [
  {
   "cell_type": "code",
   "execution_count": 60,
   "metadata": {},
   "outputs": [
    {
     "data": {
      "text/plain": [
       "True"
      ]
     },
     "execution_count": 60,
     "metadata": {},
     "output_type": "execute_result"
    }
   ],
   "source": [
    "import cv2\n",
    "\n",
    "image = cv2.imread(r'D:\\my work\\python\\HST_Pdf_enhancer\\0.png')\n",
    "image = cv2.cvtColor(image, cv2.COLOR_BGR2GRAY)\n",
    "cv2.imwrite('gray_image.png', image)\n"
   ]
  },
  {
   "cell_type": "code",
   "execution_count": 61,
   "metadata": {},
   "outputs": [
    {
     "name": "stdout",
     "output_type": "stream",
     "text": [
      "Minimum Intensity: 0.0\n",
      "Maximum Intensity: 255.0\n",
      "Minimum Intensity: 0\n",
      "Maximum Intensity: 255\n"
     ]
    },
    {
     "ename": "error",
     "evalue": "OpenCV(4.10.0) D:\\a\\opencv-python\\opencv-python\\opencv\\modules\\highgui\\src\\window.cpp:1367: error: (-2:Unspecified error) The function is not implemented. Rebuild the library with Windows, GTK+ 2.x or Cocoa support. If you are on Ubuntu or Debian, install libgtk2.0-dev and pkg-config, then re-run cmake or configure script in function 'cvWaitKey'\n",
     "output_type": "error",
     "traceback": [
      "\u001b[1;31m---------------------------------------------------------------------------\u001b[0m",
      "\u001b[1;31merror\u001b[0m                                     Traceback (most recent call last)",
      "Cell \u001b[1;32mIn[61], line 28\u001b[0m\n\u001b[0;32m     26\u001b[0m \u001b[38;5;66;03m# Save or display the result\u001b[39;00m\n\u001b[0;32m     27\u001b[0m cv2\u001b[38;5;241m.\u001b[39mimwrite(\u001b[38;5;124m\"\u001b[39m\u001b[38;5;124mBinaryImage.png\u001b[39m\u001b[38;5;124m\"\u001b[39m, binary_image)\n\u001b[1;32m---> 28\u001b[0m \u001b[43mcv2\u001b[49m\u001b[38;5;241;43m.\u001b[39;49m\u001b[43mwaitKey\u001b[49m\u001b[43m(\u001b[49m\u001b[38;5;241;43m0\u001b[39;49m\u001b[43m)\u001b[49m\n\u001b[0;32m     29\u001b[0m cv2\u001b[38;5;241m.\u001b[39mdestroyAllWindows()\n",
      "\u001b[1;31merror\u001b[0m: OpenCV(4.10.0) D:\\a\\opencv-python\\opencv-python\\opencv\\modules\\highgui\\src\\window.cpp:1367: error: (-2:Unspecified error) The function is not implemented. Rebuild the library with Windows, GTK+ 2.x or Cocoa support. If you are on Ubuntu or Debian, install libgtk2.0-dev and pkg-config, then re-run cmake or configure script in function 'cvWaitKey'\n"
     ]
    }
   ],
   "source": [
    "# _, thresh = cv2.threshold(gray, 127, 255, cv2.THRESH_BINARY)\n",
    "# cv2.imwrite('binary_image.png', thresh)\n",
    "\n",
    "# Get the minimum and maximum intensity values\n",
    "min_val, max_val, _, _ = cv2.minMaxLoc(image)\n",
    "\n",
    "print(f\"Minimum Intensity: {min_val}\")\n",
    "print(f\"Maximum Intensity: {max_val}\")\n",
    "\n",
    "import numpy as np\n",
    "\n",
    "# Get the minimum and maximum intensity values\n",
    "min_val = np.min(image)\n",
    "max_val = np.max(image)\n",
    "\n",
    "print(f\"Minimum Intensity: {min_val}\")\n",
    "print(f\"Maximum Intensity: {max_val}\")\n",
    "\n",
    "\n",
    "# Define a threshold value dynamically (e.g., mid-point)\n",
    "threshold = (min_val + max_val) / 2\n",
    "\n",
    "# Apply thresholding\n",
    "_, binary_image = cv2.threshold(image, threshold, 255, cv2.THRESH_BINARY)\n",
    "\n",
    "# Save or display the result\n",
    "cv2.imwrite(\"BinaryImage.png\", binary_image)\n",
    "\n"
   ]
  },
  {
   "cell_type": "code",
   "execution_count": 62,
   "metadata": {},
   "outputs": [
    {
     "name": "stdout",
     "output_type": "stream",
     "text": [
      "Best PSM: 6\n",
      "Confidence: 64.03478260869565\n",
      "Extracted Text:\n",
      "٧٥٢٥101٢٦ 28-12-2023 2\n",
      "\n",
      "نيابةشرق القاهرة الكلية لشنون الأسرة موقع الطباعة: جكم\n",
      "\n",
      "نيابة القاهرة الجديدة الجزنية لشنون الأسرة ، .\n",
      "أجندة يومية جنلسات ََ\n",
      "\n",
      "يومية جلسة يوم الاثنين الموافق 2024/12/16 بدائرة 19 انموذج رقم 42 \"شنون أسرة\")\n",
      "\n",
      "برناسة القاضي نزار عبدالفتاح رئيس المحكمة\n",
      "\n",
      "وعضوية كل من محمود دياب و محمد الشعراوي القاضيين\n",
      "\n",
      "وبحضور كريم حسن عضو الدائرة الرابعم وبحضور ضياء الدين الاحمداوي عضو الدائرة الخامس\n",
      "\n",
      "وبحضور أحمد مدحت نور الدين أحمد عضو النيابة\n",
      "\n",
      "وبحضور الخبيرين امبره عاطف عبدالرازق خبير اجتماعي مني فايز أبوالوفا محمد خبير نفسي\n",
      "\n",
      "وبحضور ناصر سامي عطيه خليل سكرتير الجلسة\n",
      "\n"
     ]
    }
   ],
   "source": [
    "import pytesseract\n",
    "from pytesseract import Output\n",
    "import cv2\n",
    "\n",
    "def extract_text_with_psm(image_path, lang='ara'):\n",
    "    \"\"\"\n",
    "    Run Tesseract with different PSM values and return the best result.\n",
    "    \"\"\"\n",
    "    # List of PSM modes to test\n",
    "    psm_modes = [3, 4, 6, 7, 11, 12, 13]\n",
    "    best_text = \"\"\n",
    "    best_psm = None\n",
    "    highest_confidence = 0\n",
    "    \n",
    "    # Load the image\n",
    "    image = cv2.imread(image_path)\n",
    "    \n",
    "    for psm in psm_modes:\n",
    "        # Configure Tesseract with the current PSM\n",
    "        config = f\"--psm {psm} -l {lang}\"\n",
    "        data = pytesseract.image_to_data(image, config=config, output_type=Output.DICT)\n",
    "        \n",
    "        # Extract confidence scores and calculate average confidence\n",
    "        conf = [conf for conf in data['conf'] if isinstance(conf, int) or conf.isdigit()]\n",
    "        conf = list(map(int, conf))  # Ensure all confidence values are integers\n",
    "        avg_confidence = sum(conf) / len(conf) if conf else 0\n",
    "        \n",
    "        # Get the extracted text\n",
    "        text = pytesseract.image_to_string(image, config=config)\n",
    "        \n",
    "        # Update the best result if this PSM is better\n",
    "        if avg_confidence > highest_confidence:\n",
    "            highest_confidence = avg_confidence\n",
    "            best_text = text\n",
    "            best_psm = psm\n",
    "    \n",
    "    return best_psm, best_text, highest_confidence\n",
    "\n",
    "# Usage\n",
    "image_path = r\"D:\\my work\\python\\HST_Pdf_enhancer\\BinaryImage.png\"  # Path to your preprocessed image\n",
    "best_psm, best_text, confidence = extract_text_with_psm(image_path)\n",
    "\n",
    "print(f\"Best PSM: {best_psm}\")\n",
    "print(f\"Confidence: {confidence}\")\n",
    "print(\"Extracted Text:\")\n",
    "print(best_text)\n"
   ]
  }
 ],
 "metadata": {
  "kernelspec": {
   "display_name": ".venv",
   "language": "python",
   "name": "python3"
  },
  "language_info": {
   "codemirror_mode": {
    "name": "ipython",
    "version": 3
   },
   "file_extension": ".py",
   "mimetype": "text/x-python",
   "name": "python",
   "nbconvert_exporter": "python",
   "pygments_lexer": "ipython3",
   "version": "3.10.6"
  }
 },
 "nbformat": 4,
 "nbformat_minor": 2
}
