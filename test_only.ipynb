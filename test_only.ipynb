{
 "cells": [
  {
   "cell_type": "markdown",
   "id": "9d2af9df",
   "metadata": {},
   "source": [
    "# it`s not official just use it as a test#"
   ]
  },
  {
   "cell_type": "code",
   "execution_count": 306,
   "id": "0441decc",
   "metadata": {},
   "outputs": [],
   "source": [
    "import camelot\n",
    "from langchain.text_splitter import CharacterTextSplitter\n",
    "from dotenv import load_dotenv\n",
    "import arabic_reshaper\n",
    "from bidi.algorithm import get_display\n",
    "from joblib import Memory\n",
    "from pdf2image import convert_from_path\n",
    "from PIL import Image\n",
    "import pytesseract\n",
    "import os"
   ]
  },
  {
   "cell_type": "code",
   "execution_count": 307,
   "id": "9d2645fb",
   "metadata": {},
   "outputs": [],
   "source": [
    "\n",
    "# Define a directory for cache storage\n",
    "memory = Memory(\"./cache_dir\", verbose=0)\n"
   ]
  },
  {
   "cell_type": "code",
   "execution_count": 308,
   "id": "62f54d3b",
   "metadata": {},
   "outputs": [],
   "source": [
    "@memory.cache\n",
    "def get_pdf_tables(pdf_docs):\n",
    "    pdfs_reader = []\n",
    "    for pdf in pdf_docs:\n",
    "        pdf_reader = camelot.read_pdf(pdf,pages='all',) #address of pdf file(pdf)\n",
    "        pdfs_reader.append(pdf_reader)\n",
    "    return pdfs_reader\n",
    "\n",
    "\n",
    "\n",
    "def fix_arabic_text(cell):\n",
    "    try:\n",
    "        reshaped_text = arabic_reshaper.reshape(cell)  # Reshape Arabic characters\n",
    "        bidi_text = get_display(reshaped_text)  # Apply BiDi algorithm\n",
    "        return bidi_text\n",
    "    except Exception:\n",
    "        return cell  # Return as is if not Arabic\n",
    "    "
   ]
  },
  {
   "cell_type": "code",
   "execution_count": 309,
   "id": "c36882b4",
   "metadata": {},
   "outputs": [
    {
     "name": "stdout",
     "output_type": "stream",
     "text": [
      "PDF files found:\n",
      ".\\documents\\الاثنين 16-12-2024 د19 القاهرة الجديدة.pdf\n",
      ".\\documents\\الاثنين جلسة 1-1-2024 د19.pdf\n",
      ".\\documents\\الاثنين جلسة 1-4-2024 د19 وراثات.pdf\n",
      ".\\documents\\د(19)اسرة السيدة زينب 22-12-2024.pdf\n",
      ".\\documents\\د(20)اسرة باب الشعرية 19-12-2024.pdf\n",
      ".\\documents\\د(20)اسرة عابدين18-12-2024.pdf\n",
      ".\\documents\\د(22) اسرة  الموسكى  جلسة 21-12-2024.pdf\n",
      ".\\documents\\ورثات الزاوية 16-12.pdf\n",
      ".\\documents\\ورثات الشرابية 17-12.pdf\n"
     ]
    }
   ],
   "source": [
    "directory_path = r\".\\documents\"\n",
    "\n",
    "pdf_files = []\n",
    "for root, dirs, files in os.walk(directory_path):\n",
    "    for file in files:\n",
    "        if file.endswith('.pdf'):\n",
    "            pdf_files.append(os.path.join(root, file))\n",
    "\n",
    "# Print the list of PDF files with their paths\n",
    "print(\"PDF files found:\")\n",
    "for pdf_file in pdf_files:\n",
    "    print(pdf_file)\n"
   ]
  },
  {
   "cell_type": "code",
   "execution_count": 310,
   "id": "0fe94768",
   "metadata": {},
   "outputs": [
    {
     "name": "stdout",
     "output_type": "stream",
     "text": [
      "[<TableList n=6>, <TableList n=4>, <TableList n=1>, <TableList n=3>, <TableList n=5>, <TableList n=5>, <TableList n=2>, <TableList n=1>, <TableList n=2>]\n"
     ]
    }
   ],
   "source": [
    "pdfs_tables = get_pdf_tables(pdf_files)\n",
    "\n",
    "print(pdfs_tables)\n"
   ]
  },
  {
   "cell_type": "code",
   "execution_count": 311,
   "id": "5469e7e1",
   "metadata": {},
   "outputs": [
    {
     "name": "stdout",
     "output_type": "stream",
     "text": [
      "{0: '19.92122205431878, 822.2581242873432, 575.1986688180718, 664.1431014823261', 1: '19.92122205431878, 822.2581242873432, 575.1986688180718, 664.1431014823261', 2: '19.92122205431878, 822.2581242873432, 575.1986688180718, 664.1431014823261', 3: '19.92122205431878, 822.2581242873432, 575.1986688180718, 664.1431014823261', 4: '19.92122205431878, 822.2581242873432, 575.1986688180718, 664.1431014823261', 5: '19.92122205431878, 822.2581242873432, 575.1986688180718, 664.1431014823261', 6: '19.92122205431878, 822.2581242873432, 575.1986688180718, 664.1431014823261', 7: '19.92122205431878, 822.2581242873432, 575.1986688180718, 664.1431014823261', 8: '19.92122205431878, 822.2581242873432, 575.1986688180718, 664.1431014823261'}\n"
     ]
    }
   ],
   "source": [
    "def get_head_from_first_page(pdf):\n",
    "        first_page = pdf[0]\n",
    "        first_page.df = first_page.df.map(fix_arabic_text)\n",
    "        # Access the table's structure\n",
    "        cells = first_page.cells  # List of all detected cells\n",
    "        bbox = first_page._bbox  # List of all detected cells\n",
    "        head = f\"{cells[0][0].x1}, {cells[0][0].y2}, {cells[0][-1].x2}, {cells[0][0].y1}\"\n",
    "        return head\n",
    "head_coordinates = {}\n",
    "for i in range (len(pdfs_tables)):\n",
    "    head_coordinates[i]=get_head_from_first_page(_)\n",
    "print(head_coordinates)"
   ]
  },
  {
   "cell_type": "code",
   "execution_count": 312,
   "id": "fe9f3f22",
   "metadata": {},
   "outputs": [
    {
     "name": "stderr",
     "output_type": "stream",
     "text": [
      "invalid pdf header: b'11724'\n",
      "incorrect startxref pointer(1)\n",
      "parsing for Object Streams\n"
     ]
    },
    {
     "name": "stdout",
     "output_type": "stream",
     "text": [
      ".\\documents\\الاثنين 16-12-2024 د19 القاهرة الجديدة.pdf 0\n"
     ]
    },
    {
     "name": "stderr",
     "output_type": "stream",
     "text": [
      "invalid pdf header: b'11479'\n",
      "incorrect startxref pointer(1)\n",
      "parsing for Object Streams\n"
     ]
    },
    {
     "name": "stdout",
     "output_type": "stream",
     "text": [
      ".\\documents\\الاثنين جلسة 1-1-2024 د19.pdf 1\n"
     ]
    },
    {
     "name": "stderr",
     "output_type": "stream",
     "text": [
      "invalid pdf header: b'15576'\n",
      "incorrect startxref pointer(3)\n",
      "parsing for Object Streams\n"
     ]
    },
    {
     "name": "stdout",
     "output_type": "stream",
     "text": [
      ".\\documents\\الاثنين جلسة 1-4-2024 د19 وراثات.pdf 2\n"
     ]
    },
    {
     "name": "stderr",
     "output_type": "stream",
     "text": [
      "invalid pdf header: b'11710'\n",
      "incorrect startxref pointer(1)\n",
      "parsing for Object Streams\n"
     ]
    },
    {
     "name": "stdout",
     "output_type": "stream",
     "text": [
      ".\\documents\\د(19)اسرة السيدة زينب 22-12-2024.pdf 3\n"
     ]
    },
    {
     "name": "stderr",
     "output_type": "stream",
     "text": [
      "invalid pdf header: b'11715'\n",
      "incorrect startxref pointer(1)\n",
      "parsing for Object Streams\n"
     ]
    },
    {
     "name": "stdout",
     "output_type": "stream",
     "text": [
      ".\\documents\\د(20)اسرة باب الشعرية 19-12-2024.pdf 4\n"
     ]
    },
    {
     "name": "stderr",
     "output_type": "stream",
     "text": [
      "invalid pdf header: b'11714'\n",
      "incorrect startxref pointer(1)\n",
      "parsing for Object Streams\n"
     ]
    },
    {
     "name": "stdout",
     "output_type": "stream",
     "text": [
      ".\\documents\\د(20)اسرة عابدين18-12-2024.pdf 5\n"
     ]
    },
    {
     "name": "stderr",
     "output_type": "stream",
     "text": [
      "invalid pdf header: b'11696'\n",
      "incorrect startxref pointer(1)\n",
      "parsing for Object Streams\n"
     ]
    },
    {
     "name": "stdout",
     "output_type": "stream",
     "text": [
      ".\\documents\\د(22) اسرة  الموسكى  جلسة 21-12-2024.pdf 6\n"
     ]
    },
    {
     "name": "stderr",
     "output_type": "stream",
     "text": [
      "invalid pdf header: b'16883'\n",
      "incorrect startxref pointer(3)\n",
      "parsing for Object Streams\n"
     ]
    },
    {
     "name": "stdout",
     "output_type": "stream",
     "text": [
      ".\\documents\\ورثات الزاوية 16-12.pdf 7\n"
     ]
    },
    {
     "name": "stderr",
     "output_type": "stream",
     "text": [
      "invalid pdf header: b'17255'\n",
      "incorrect startxref pointer(3)\n",
      "parsing for Object Streams\n"
     ]
    },
    {
     "name": "stdout",
     "output_type": "stream",
     "text": [
      ".\\documents\\ورثات الشرابية 17-12.pdf 8\n"
     ]
    },
    {
     "data": {
      "image/png": "[encoded data removed]",
      "text/plain": [
       "<Figure size 640x480 with 1 Axes>"
      ]
     },
     "metadata": {},
     "output_type": "display_data"
    },
    {
     "data": {
      "image/png": "[encoded data removed]",
      "text/plain": [
       "<Figure size 640x480 with 1 Axes>"
      ]
     },
     "metadata": {},
     "output_type": "display_data"
    },
    {
     "data": {
      "image/png": "[encoded data removed]",
      "text/plain": [
       "<Figure size 640x480 with 1 Axes>"
      ]
     },
     "metadata": {},
     "output_type": "display_data"
    },
    {
     "data": {
      "image/png": "[encoded data removed]",
      "text/plain": [
       "<Figure size 640x480 with 1 Axes>"
      ]
     },
     "metadata": {},
     "output_type": "display_data"
    },
    {
     "data": {
      "image/png": "[encoded data removed]",
      "text/plain": [
       "<Figure size 640x480 with 1 Axes>"
      ]
     },
     "metadata": {},
     "output_type": "display_data"
    },
    {
     "data": {
      "image/png": "[encoded data removed]",
      "text/plain": [
       "<Figure size 640x480 with 1 Axes>"
      ]
     },
     "metadata": {},
     "output_type": "display_data"
    },
    {
     "data": {
      "image/png": "[encoded data removed]",
      "text/plain": [
       "<Figure size 640x480 with 1 Axes>"
      ]
     },
     "metadata": {},
     "output_type": "display_data"
    },
    {
     "data": {
      "image/png": "[encoded data removed]",
      "text/plain": [
       "<Figure size 640x480 with 1 Axes>"
      ]
     },
     "metadata": {},
     "output_type": "display_data"
    },
    {
     "data": {
      "image/png": "[encoded data removed]",
      "text/plain": [
       "<Figure size 640x480 with 1 Axes>"
      ]
     },
     "metadata": {},
     "output_type": "display_data"
    }
   ],
   "source": [
    "def check_on_pdf_grid(pdf_path,key):\n",
    "    file_name =os.path.basename(pdf_path)\n",
    "    nested_tables = camelot.read_pdf(pdf_path, pages='1',flavor='stream',table_areas=[head_coordinates[key]],edge_tol=500,)\n",
    "    camelot.plot(table=nested_tables[0], kind=\"grid\",filename=f'{file_name}_grid.png')\n",
    "    \n",
    "for pdf_path,key in zip(pdf_files,head_coordinates):\n",
    "    print(pdf_path,key)\n",
    "    check_on_pdf_grid(pdf_path,key)"
   ]
  },
  {
   "cell_type": "code",
   "execution_count": 313,
   "id": "aa1a197a",
   "metadata": {},
   "outputs": [
    {
     "name": "stdout",
     "output_type": "stream",
     "text": [
      "[<PIL.PpmImagePlugin.PpmImageFile image mode=RGB size=2480x3509 at 0x23D47105FF0>, <PIL.PpmImagePlugin.PpmImageFile image mode=RGB size=2480x3509 at 0x23D47105C00>, <PIL.PpmImagePlugin.PpmImageFile image mode=RGB size=2480x3509 at 0x23D47106020>, <PIL.PpmImagePlugin.PpmImageFile image mode=RGB size=2480x3509 at 0x23D464C4F10>, <PIL.PpmImagePlugin.PpmImageFile image mode=RGB size=2480x3509 at 0x23D464C4BE0>, <PIL.PpmImagePlugin.PpmImageFile image mode=RGB size=2480x3509 at 0x23D464C5030>, <PIL.PpmImagePlugin.PpmImageFile image mode=RGB size=2480x3509 at 0x23D464C4C40>, <PIL.PpmImagePlugin.PpmImageFile image mode=RGB size=2480x3509 at 0x23D00CD27D0>, <PIL.PpmImagePlugin.PpmImageFile image mode=RGB size=2480x3509 at 0x23D00CD2680>]\n"
     ]
    }
   ],
   "source": [
    "pages_images = []\n",
    "for pdf_path,key in zip(pdf_files,head_coordinates):\n",
    "    # Convert the PDF page to an image\n",
    "    pages = convert_from_path(pdf_path, first_page=1, last_page=1, dpi=300,poppler_path=r\".\\libs\\poppler-24.08.0\\Library\\bin\")\n",
    "    pages_images.append(pages[0])\n",
    "    \n",
    "print(pages_images)"
   ]
  },
  {
   "cell_type": "code",
   "execution_count": 314,
   "id": "5d42fba8",
   "metadata": {},
   "outputs": [
    {
     "name": "stdout",
     "output_type": "stream",
     "text": [
      "{0: [19, 822, 575, 664], 1: [19, 822, 575, 664], 2: [19, 822, 575, 664], 3: [19, 822, 575, 664], 4: [19, 822, 575, 664], 5: [19, 822, 575, 664], 6: [19, 822, 575, 664], 7: [19, 822, 575, 664], 8: [19, 822, 575, 664]}\n"
     ]
    }
   ],
   "source": [
    "#convert head_coordinates to list of int\n",
    "# head_coordinates = [int(float(coord)) for coord in head_coordinates.split(\",\")]\n",
    "for key in head_coordinates:\n",
    "    head_coordinates[key] = [int(float(coord)) for coord in head_coordinates[key].split(\",\")]\n",
    "    \n",
    "print(head_coordinates)"
   ]
  },
  {
   "cell_type": "code",
   "execution_count": 321,
   "id": "1014037f",
   "metadata": {},
   "outputs": [
    {
     "name": "stdout",
     "output_type": "stream",
     "text": [
      "٧٥٢٣٥102٨ 28-1 2-2023 2\n",
      "\n",
      "نيابةقشرق القاهرة الكلية لشنون الأسرة موقع الطباعة: ججبر\n",
      "\n",
      "نيبة القأمرة الجديدة الجزنية لشنون الأسرة اقق\n",
      "أجندة يومية جلسات\n",
      "\n",
      "يومية جلسة يوم الاثنين الموافق 2024/12/16 بدائرة 19 انموذج رقم 42 \"شنون أسرة\")\n",
      "\n",
      "برناسة القاضي نزار عبدالفتاح رئيس المحكمة\n",
      "\n",
      "وعضوية كل من محمود دياب و محمد الشعراوي القاضيين\n",
      "\n",
      "وبحضور كريم حسن عضو الدائرة الرابعم وبحضور ضياء الدين الاحمداوي عضو الدائرة الخامس\n",
      "\n",
      "وبحضور أحمد مدحت نور الدين أحمد عضو النيابة\n",
      "\n",
      "وبحضور الخبيرين اميره عاطف عبدالرازق خبير اجتماعي مني فايز أبوالوفا محمد خبير نفسي\n",
      "\n",
      "وبحضور ناصر سامي عطيه خليل سكرتير الجلسة\n",
      " \n",
      "###############################################\n",
      "\n",
      "‎٧٥٢٥10٢٨ 28-1 2--023 2‏\n",
      "نيابةشرق القاهرة الكلية لشنون الأسرة موقع الطباعة: جرمر\n",
      "نيابة القأهرة الجديدة الجزئية لشنون الأسرة افوق\n",
      "\n",
      "‏أجندة يومية جلسات\n",
      "يومية جلسة يوم الاثنين الموافقى 2024/01/01 بدائرة 19 انموذج رقم 42 \"شتون أسرة\")\n",
      "برناسة القاضي أحمد عبدالعزيز محمد محسن رئيس المحكمة\n",
      "وعضوية كل من احمد البنا و أحمد محمد طه حنفي القاضيين\n",
      "وبحضور محمود ايمن محمود محمد موافي عضو النيابة\n",
      "وبحضور الخبيرين رانيا رمضان أحمد محمد خبير اجتماعي مني فايز أبوالوفا محمد خبير نفسي\n",
      "وبحضور أحمد محمد أحمد محمد سعدوني سكرتير الجلسة\n",
      "فتحت الجلسة الساعه وقفلت الساعة\n",
      " \n",
      "###############################################\n",
      "\n",
      "٧٥٢٣٥١01٨ 23-01-2024 - -1\n",
      "\n",
      "نيابة شرق القاهرة الكلية لشنون الأسرة موقع الطباعة:\n",
      "ٰ كل\n",
      "\n",
      "نيابة القاهرة الجديدة الجزئية لشنون الاسرة كة\n",
      "\n",
      "، :. : ه\n",
      "\n",
      "(ولاية على النفس) اجندة يومية وراثات\n",
      "\n",
      "يومية جلسة يوم الاثنين الموافق 2024/04/01 بدائرة 19\n",
      "\n",
      "ويحضور ناصر سامي عطيه خليل سكرتير الجلسة\n",
      "\n",
      "فتحت الجلسة الساعه وقفلت الساعة\n",
      "\n",
      "د رقم القضية مقدم الطلب اسم المتوفى | الجلسة السابقة الحكم أو القرار الجلسة التالية\n",
      " \n",
      "###############################################\n",
      "\n",
      "‎٧٥٢٥101٨ 28-1 2-2-023 2‏\n",
      "نيابةجنوب القاهرة الكلية لشنون الأسرة موقع الطباعة: مجمع محاكم شبرا زنانيري ججمر\n",
      "نيابة السيدة زينب الجزئية لشنون الأسرة ، حك\n",
      "ّ ه َ\n",
      "أجندة يومية جنلسات\n",
      "ت ت . . َ\n",
      "ة جلسة ق 4 بدائرة 19 الموذج رقم 42 \"شنون أسرة\")\n",
      "يومية جلسة يوم الاحد الموافق 1222 بدائر\n",
      "برناسة القاضي عبدالله الحسين رئيس المحكمة\n",
      "وبحضور مصطفي محمد رضا منثير سعفان عضو الدائرة الرابع\n",
      "وبحضور محمد محمود شاكر مرسي عضو النيابة\n",
      "و ب ح ضور ال خبيرين محمد نصر عبد الحميد عبدالله خبير اجتماعي هبه أحمد سيد أحمد خبير نفسي\n",
      "وبحضور ناصر فؤاد محمود ابراهيم سكرتير الجلسة\n",
      " \n",
      "###############################################\n",
      "\n",
      "٧٥٢٣٥102٨ 28-1 2-2023 2\n",
      "\n",
      "نيابةجنوب القاهرة الكلية لشنون الأإسرة موقع الطباعة: مجمع محاكم شبرا زنانيري ججبر\n",
      "\n",
      "نيابةباب الشعرية الجزنية لشنون الأسرة .\n",
      "أجندة يومية جلسات ست\n",
      "\n",
      "يومية جلسة يوم الخميس الموافق 2024/12/19 بدائرة 20 انموذج رقم 42 \"شتون أسرة\")\n",
      "\n",
      "برناسة القاضي محمد حسن عبد المحسن رئيس المحكمة\n",
      "\n",
      "وعضوية كل من محمد عبد البصير و أحمد جمال حسين امبابي القاضيين\n",
      "\n",
      "وبحضور محمد مصطفي توفيق مهني يوسف عضو الدائرة الرابع\n",
      "\n",
      "وبحضور أحمد محمد على عوض على عضو النيابة\n",
      "\n",
      "وبحضور الخبيرين لمياء صلاح الدين خبير اجتماعي شيماء عبدالباسط عبدالحكيم خبير نفسي\n",
      "\n",
      "وبحضور شيماء السيد جابر السيد سكرتير الجلسة\n",
      " \n",
      "###############################################\n",
      "\n",
      "‎٧٥٢٣٥102٨ 28-1 2-2023 2‏\n",
      "نيابةجنوب القاهرة الكلية لشنون الأسرة موقع الطباعة: مجمع محاكم شبرا زنانيري ججبر\n",
      "نيابة عابدين الجزئية لشئون الأسرة ، احققأ\n",
      "5ك ر ت\n",
      "أجندة يومية جنلسات\n",
      "‎٠‏ ك ّ ‎٠‏\n",
      "\n",
      "‏ك ك و ذب ذ ء أ ‎٠َ‏\n",
      "‏يومية جلسة يوم الأربعاء الموافق 2024/12/18 بدائرة 20 انموذج رقم 42 \"شنون أسرة\")\n",
      "وعضوية كل من محمد عبد البصير و أحمد جمال على توفيق القاضيين\n",
      "وبحضور محمد مصطفي توفيق مهني يوسف عضو الدائرة الرابع\n",
      "وبحضور عمر أحمد على محمد على عبد الفتاح عضو النيابة\n",
      "وبحضور الخبيرين سمر أحمد سعيد خبير اجتماعي رشا عمر خبير نفسي\n",
      "ويبحضور أحمد عبد المنعم عبد الظاهر نصر سكرتير الجلسة\n",
      " \n",
      "###############################################\n",
      "\n",
      "‎٧٥٢٣٥102٨ 28-1 2-2023 2‏\n",
      "نيابة جنوب القاهرة الكلية لشئون الاسرة موقع الطباعة: مجمع محاكم شبرا زنانيري جمر\n",
      "ابةالموسكى الجَرنية لفونالأاًرة ح\n",
      "\n",
      "‏أحندة ٌحلسات اخكة\n",
      "‎٥ ٥‏ يومية ‎٦‏ ك ُح\n",
      "يومية جلسة يوم السبت الموافق 1 بدائرة 22 (نموذج رقم 42 \"شئون أسرة\")\n",
      "برئاسة القاضي أحمد يوسف عبدالعزيز رشدى رئيس المحكمة\n",
      "وعضوية كل من أسلام الجندي و أحمد محمد هلال أبو النجا الشهاوي الفاضبين\n",
      "ويحضو محمد أشرف أحمد محمد عضو الدائرة الرابع\n",
      "وبحضور رشا أحمد محمود خبير اجتماعي عبد الررحمن على محمد خبير نفسي\n",
      " \n",
      "###############################################\n",
      "\n",
      "٧٥٣٥101٨ 07-03 -2024 - 1\n",
      "\n",
      "نيابة شمال القاهرة الكلية لشنون الأسرة موقع الطباعة: جِح\n",
      "نيابة الزاوية الحمراء الجزئية لشنون الأسرة ك ‎١‏\n",
      "‏(ولاية على النفس) اجندة يومية وراثات أ\n",
      "\n",
      "يومية جلسة يوم الاثنين الموافق 2024/12/16 بدائرة 23\n",
      "\n",
      "برئاسة القاضي أحمد قرني رئيس المحكمة\n",
      "\n",
      "وبحضور مصطفي حا مد محمد منصور سكرتير ا لجل ة\n",
      "\n",
      "فتحت الجلسة الساعه وقفلت الساعة\n",
      "\n",
      "رق مو بم َ و ا\n",
      "ذ ّ رقم القضية مقدم الطلب اسم المتوفى | الجلسة السابقة الحكم أو القرار الجلسة التالية\n",
      " \n",
      "###############################################\n",
      "\n",
      "‎٧٥٢٣٥101٨ 07-03-2024 - 1‏\n",
      "نيابة شمال القاهرة الكلية لشنون الأسرة موقع الطباعة: َخر\n",
      "َ اب ق َك\n",
      "نيابة الشرابية الجزئية لشنون الأسرة ن\n",
      "\n",
      "‏، .: ٠م٠‏ ال ك َ\n",
      "(ولاية على النفس) اأجندة يومية وراثات\n",
      "يومية جلسة يوم الثلاثاء الموافق 2024/12/17 بدائرة 25\n",
      "برناسة القاضي رئيس المحكمة\n",
      "وبحضور سكرتير الجلسة\n",
      "فتحت الجلسة الساعه وقفلت الساعة\n",
      "ثم | رقم القضية مقدم الطلب اسح المتوف الجلسة السابقة الحكم أو القرار الجلسة التالية\n",
      "الرول رم ب ما لسْت ْن ك\n",
      " \n",
      "###############################################\n",
      "\n"
     ]
    }
   ],
   "source": [
    "for i,page_image in enumerate(pages_images):\n",
    "    cropped_cell_image = page_image.crop((head_coordinates[i][0], 0, page_image.width,(page_image.height/100)+head_coordinates[i][1]))\n",
    "    # Perform OCR on the cropped cell\n",
    "    ocr_result = pytesseract.image_to_string(cropped_cell_image, lang=\"ara\",config='--oem 3 --psm 6',)  # Add 'ara' for Arabic support\n",
    "    print(ocr_result, \"\\n###############################################\\n\")\n",
    "    # Save the cropped image (optional, for debugging purposes)\n",
    "    cropped_cell_image.save(f\"{i}.png\")"
   ]
  }
 ],
 "metadata": {
  "kernelspec": {
   "display_name": ".venv",
   "language": "python",
   "name": "python3"
  },
  "language_info": {
   "codemirror_mode": {
    "name": "ipython",
    "version": 3
   },
   "file_extension": ".py",
   "mimetype": "text/x-python",
   "name": "python",
   "nbconvert_exporter": "python",
   "pygments_lexer": "ipython3",
   "version": "3.10.6"
  }
 },
 "nbformat": 4,
 "nbformat_minor": 5
}
